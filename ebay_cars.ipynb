{
 "cells": [
  {
   "cell_type": "markdown",
   "metadata": {
    "collapsed": true
   },
   "source": [
    "# Ebay Car Data Analysis\n",
    "\n",
    "This project will clean and analyze data regarding cars for sale on ebay. The data was web scraped, and uploaded to Kaggle. The columns are the following:\n",
    "\n",
    "**Columns:**              \n",
    " - dateCrawled         \n",
    " - name                \n",
    " - seller              \n",
    " - offerType           \n",
    " - price               \n",
    " - abtest              \n",
    " - vehicleType         \n",
    " - yearOfRegistration  \n",
    " - gearbox             \n",
    " - powerPS             \n",
    " - model               \n",
    " - kilometer           \n",
    " - monthOfRegistration \n",
    " - fuelType            \n",
    " - brand               \n",
    " - notRepairedDamage   \n",
    " - dateCreated         \n",
    " - nrOfPictures        \n",
    " - postalCode          \n",
    " - lastSeenOnline       "
   ]
  },
  {
   "cell_type": "code",
   "execution_count": 36,
   "metadata": {
    "collapsed": false
   },
   "outputs": [],
   "source": [
    "import numpy as np\n",
    "import pandas as pd\n",
    "\n",
    "autos = pd.read_csv('autos.csv', encoding='Latin-1')"
   ]
  },
  {
   "cell_type": "code",
   "execution_count": 37,
   "metadata": {
    "collapsed": false
   },
   "outputs": [
    {
     "name": "stdout",
     "output_type": "stream",
     "text": [
      "           dateCrawled                                               name  \\\n",
      "0  2016-03-26 17:47:46                   Peugeot_807_160_NAVTECH_ON_BOARD   \n",
      "1  2016-04-04 13:38:56         BMW_740i_4_4_Liter_HAMANN_UMBAU_Mega_Optik   \n",
      "2  2016-03-26 18:57:24                         Volkswagen_Golf_1.6_United   \n",
      "3  2016-03-12 16:58:10  Smart_smart_fortwo_coupe_softouch/F1/Klima/Pan...   \n",
      "4  2016-04-01 14:38:50  Ford_Focus_1_6_Benzin_TÜV_neu_ist_sehr_gepfleg...   \n",
      "\n",
      "   seller offerType   price   abtest vehicleType  yearOfRegistration  \\\n",
      "0  privat   Angebot  $5,000  control         bus                2004   \n",
      "1  privat   Angebot  $8,500  control   limousine                1997   \n",
      "2  privat   Angebot  $8,990     test   limousine                2009   \n",
      "3  privat   Angebot  $4,350  control  kleinwagen                2007   \n",
      "4  privat   Angebot  $1,350     test       kombi                2003   \n",
      "\n",
      "     gearbox  powerPS   model   odometer  monthOfRegistration fuelType  \\\n",
      "0    manuell      158  andere  150,000km                    3      lpg   \n",
      "1  automatik      286     7er  150,000km                    6   benzin   \n",
      "2    manuell      102    golf   70,000km                    7   benzin   \n",
      "3  automatik       71  fortwo   70,000km                    6   benzin   \n",
      "4    manuell        0   focus  150,000km                    7   benzin   \n",
      "\n",
      "        brand notRepairedDamage          dateCreated  nrOfPictures  \\\n",
      "0     peugeot              nein  2016-03-26 00:00:00             0   \n",
      "1         bmw              nein  2016-04-04 00:00:00             0   \n",
      "2  volkswagen              nein  2016-03-26 00:00:00             0   \n",
      "3       smart              nein  2016-03-12 00:00:00             0   \n",
      "4        ford              nein  2016-04-01 00:00:00             0   \n",
      "\n",
      "   postalCode             lastSeen  \n",
      "0       79588  2016-04-06 06:45:54  \n",
      "1       71034  2016-04-06 14:45:08  \n",
      "2       35394  2016-04-06 20:15:37  \n",
      "3       33729  2016-03-15 03:16:28  \n",
      "4       39218  2016-04-01 14:38:50  \n",
      "<class 'pandas.core.frame.DataFrame'>\n",
      "RangeIndex: 50000 entries, 0 to 49999\n",
      "Data columns (total 20 columns):\n",
      "dateCrawled            50000 non-null object\n",
      "name                   50000 non-null object\n",
      "seller                 50000 non-null object\n",
      "offerType              50000 non-null object\n",
      "price                  50000 non-null object\n",
      "abtest                 50000 non-null object\n",
      "vehicleType            44905 non-null object\n",
      "yearOfRegistration     50000 non-null int64\n",
      "gearbox                47320 non-null object\n",
      "powerPS                50000 non-null int64\n",
      "model                  47242 non-null object\n",
      "odometer               50000 non-null object\n",
      "monthOfRegistration    50000 non-null int64\n",
      "fuelType               45518 non-null object\n",
      "brand                  50000 non-null object\n",
      "notRepairedDamage      40171 non-null object\n",
      "dateCreated            50000 non-null object\n",
      "nrOfPictures           50000 non-null int64\n",
      "postalCode             50000 non-null int64\n",
      "lastSeen               50000 non-null object\n",
      "dtypes: int64(5), object(15)\n",
      "memory usage: 7.6+ MB\n"
     ]
    }
   ],
   "source": [
    "# print the first and last few rows, as well as info about the data frame\n",
    "autos\n",
    "print(autos.head())\n",
    "autos.info()"
   ]
  },
  {
   "cell_type": "markdown",
   "metadata": {},
   "source": [
    "# Observations:\n",
    "\n",
    "As you can see from the data output above, it appears that 'private' in the 'seller' column has been mispelled to 'privat'. Also, the vehicleType, gearbox, model, fuelType, and notRepairedDamage have null values. The price and odometer fields are text fields."
   ]
  },
  {
   "cell_type": "code",
   "execution_count": 38,
   "metadata": {
    "collapsed": false
   },
   "outputs": [
    {
     "data": {
      "text/plain": [
       "Index(['dateCrawled', 'name', 'seller', 'offerType', 'price', 'abtest',\n",
       "       'vehicleType', 'yearOfRegistration', 'gearbox', 'powerPS', 'model',\n",
       "       'odometer', 'monthOfRegistration', 'fuelType', 'brand',\n",
       "       'notRepairedDamage', 'dateCreated', 'nrOfPictures', 'postalCode',\n",
       "       'lastSeen'],\n",
       "      dtype='object')"
      ]
     },
     "execution_count": 38,
     "metadata": {},
     "output_type": "execute_result"
    }
   ],
   "source": [
    "# print the existing column names:\n",
    "autos.columns"
   ]
  },
  {
   "cell_type": "code",
   "execution_count": 39,
   "metadata": {
    "collapsed": false
   },
   "outputs": [],
   "source": [
    "# rename the columns\n",
    "new_cols = ['date_crawled', 'name', 'seller', 'offer_type', 'price', 'ab_test',\n",
    "       'vehicle_type', 'registration_year', 'gearbox', 'power_ps', 'model',\n",
    "       'odometer', 'registration_month', 'fuel_type', 'brand',\n",
    "       'unrepaired_damage', 'ad_created', 'num_pictures', 'postal_code',\n",
    "       'last_seen']\n",
    "\n",
    "#assign modified column names back to columns attribute of data frame\n",
    "autos.columns = new_cols"
   ]
  },
  {
   "cell_type": "code",
   "execution_count": 40,
   "metadata": {
    "collapsed": false
   },
   "outputs": [
    {
     "name": "stdout",
     "output_type": "stream",
     "text": [
      "          date_crawled                                               name  \\\n",
      "0  2016-03-26 17:47:46                   Peugeot_807_160_NAVTECH_ON_BOARD   \n",
      "1  2016-04-04 13:38:56         BMW_740i_4_4_Liter_HAMANN_UMBAU_Mega_Optik   \n",
      "2  2016-03-26 18:57:24                         Volkswagen_Golf_1.6_United   \n",
      "3  2016-03-12 16:58:10  Smart_smart_fortwo_coupe_softouch/F1/Klima/Pan...   \n",
      "4  2016-04-01 14:38:50  Ford_Focus_1_6_Benzin_TÜV_neu_ist_sehr_gepfleg...   \n",
      "\n",
      "   seller offer_type   price  ab_test vehicle_type  registration_year  \\\n",
      "0  privat    Angebot  $5,000  control          bus               2004   \n",
      "1  privat    Angebot  $8,500  control    limousine               1997   \n",
      "2  privat    Angebot  $8,990     test    limousine               2009   \n",
      "3  privat    Angebot  $4,350  control   kleinwagen               2007   \n",
      "4  privat    Angebot  $1,350     test        kombi               2003   \n",
      "\n",
      "     gearbox  power_ps   model   odometer  registration_month fuel_type  \\\n",
      "0    manuell       158  andere  150,000km                   3       lpg   \n",
      "1  automatik       286     7er  150,000km                   6    benzin   \n",
      "2    manuell       102    golf   70,000km                   7    benzin   \n",
      "3  automatik        71  fortwo   70,000km                   6    benzin   \n",
      "4    manuell         0   focus  150,000km                   7    benzin   \n",
      "\n",
      "        brand unrepaired_damage           ad_created  num_pictures  \\\n",
      "0     peugeot              nein  2016-03-26 00:00:00             0   \n",
      "1         bmw              nein  2016-04-04 00:00:00             0   \n",
      "2  volkswagen              nein  2016-03-26 00:00:00             0   \n",
      "3       smart              nein  2016-03-12 00:00:00             0   \n",
      "4        ford              nein  2016-04-01 00:00:00             0   \n",
      "\n",
      "   postal_code            last_seen  \n",
      "0        79588  2016-04-06 06:45:54  \n",
      "1        71034  2016-04-06 14:45:08  \n",
      "2        35394  2016-04-06 20:15:37  \n",
      "3        33729  2016-03-15 03:16:28  \n",
      "4        39218  2016-04-01 14:38:50  \n"
     ]
    }
   ],
   "source": [
    "#view the data frame's first few rows\n",
    "print(autos.head())"
   ]
  },
  {
   "cell_type": "markdown",
   "metadata": {},
   "source": [
    "# Column name updates\n",
    "\n",
    "The columns have been renamed to the following, for updated notation and clarity:\n",
    "\n",
    " - registration_year\n",
    " - registration_month\n",
    " - unrepaired_damage\n",
    " - ad_created\n",
    " - date_crawled\n",
    " - offer_type\n",
    " - vehicle_type\n",
    " - power_ps\n",
    " - fuel_type\n",
    " - num_pictures\n",
    " - postal_code\n",
    " - last_seen_online"
   ]
  },
  {
   "cell_type": "code",
   "execution_count": 41,
   "metadata": {
    "collapsed": false
   },
   "outputs": [
    {
     "data": {
      "text/html": [
       "<div>\n",
       "<style scoped>\n",
       "    .dataframe tbody tr th:only-of-type {\n",
       "        vertical-align: middle;\n",
       "    }\n",
       "\n",
       "    .dataframe tbody tr th {\n",
       "        vertical-align: top;\n",
       "    }\n",
       "\n",
       "    .dataframe thead th {\n",
       "        text-align: right;\n",
       "    }\n",
       "</style>\n",
       "<table border=\"1\" class=\"dataframe\">\n",
       "  <thead>\n",
       "    <tr style=\"text-align: right;\">\n",
       "      <th></th>\n",
       "      <th>date_crawled</th>\n",
       "      <th>name</th>\n",
       "      <th>seller</th>\n",
       "      <th>offer_type</th>\n",
       "      <th>price</th>\n",
       "      <th>ab_test</th>\n",
       "      <th>vehicle_type</th>\n",
       "      <th>registration_year</th>\n",
       "      <th>gearbox</th>\n",
       "      <th>power_ps</th>\n",
       "      <th>model</th>\n",
       "      <th>odometer</th>\n",
       "      <th>registration_month</th>\n",
       "      <th>fuel_type</th>\n",
       "      <th>brand</th>\n",
       "      <th>unrepaired_damage</th>\n",
       "      <th>ad_created</th>\n",
       "      <th>num_pictures</th>\n",
       "      <th>postal_code</th>\n",
       "      <th>last_seen</th>\n",
       "    </tr>\n",
       "  </thead>\n",
       "  <tbody>\n",
       "    <tr>\n",
       "      <th>count</th>\n",
       "      <td>50000</td>\n",
       "      <td>50000</td>\n",
       "      <td>50000</td>\n",
       "      <td>50000</td>\n",
       "      <td>50000</td>\n",
       "      <td>50000</td>\n",
       "      <td>44905</td>\n",
       "      <td>50000.000000</td>\n",
       "      <td>47320</td>\n",
       "      <td>50000.000000</td>\n",
       "      <td>47242</td>\n",
       "      <td>50000</td>\n",
       "      <td>50000.000000</td>\n",
       "      <td>45518</td>\n",
       "      <td>50000</td>\n",
       "      <td>40171</td>\n",
       "      <td>50000</td>\n",
       "      <td>50000.0</td>\n",
       "      <td>50000.000000</td>\n",
       "      <td>50000</td>\n",
       "    </tr>\n",
       "    <tr>\n",
       "      <th>unique</th>\n",
       "      <td>48213</td>\n",
       "      <td>38754</td>\n",
       "      <td>2</td>\n",
       "      <td>2</td>\n",
       "      <td>2357</td>\n",
       "      <td>2</td>\n",
       "      <td>8</td>\n",
       "      <td>NaN</td>\n",
       "      <td>2</td>\n",
       "      <td>NaN</td>\n",
       "      <td>245</td>\n",
       "      <td>13</td>\n",
       "      <td>NaN</td>\n",
       "      <td>7</td>\n",
       "      <td>40</td>\n",
       "      <td>2</td>\n",
       "      <td>76</td>\n",
       "      <td>NaN</td>\n",
       "      <td>NaN</td>\n",
       "      <td>39481</td>\n",
       "    </tr>\n",
       "    <tr>\n",
       "      <th>top</th>\n",
       "      <td>2016-03-23 18:39:34</td>\n",
       "      <td>Ford_Fiesta</td>\n",
       "      <td>privat</td>\n",
       "      <td>Angebot</td>\n",
       "      <td>$0</td>\n",
       "      <td>test</td>\n",
       "      <td>limousine</td>\n",
       "      <td>NaN</td>\n",
       "      <td>manuell</td>\n",
       "      <td>NaN</td>\n",
       "      <td>golf</td>\n",
       "      <td>150,000km</td>\n",
       "      <td>NaN</td>\n",
       "      <td>benzin</td>\n",
       "      <td>volkswagen</td>\n",
       "      <td>nein</td>\n",
       "      <td>2016-04-03 00:00:00</td>\n",
       "      <td>NaN</td>\n",
       "      <td>NaN</td>\n",
       "      <td>2016-04-07 06:17:27</td>\n",
       "    </tr>\n",
       "    <tr>\n",
       "      <th>freq</th>\n",
       "      <td>3</td>\n",
       "      <td>78</td>\n",
       "      <td>49999</td>\n",
       "      <td>49999</td>\n",
       "      <td>1421</td>\n",
       "      <td>25756</td>\n",
       "      <td>12859</td>\n",
       "      <td>NaN</td>\n",
       "      <td>36993</td>\n",
       "      <td>NaN</td>\n",
       "      <td>4024</td>\n",
       "      <td>32424</td>\n",
       "      <td>NaN</td>\n",
       "      <td>30107</td>\n",
       "      <td>10687</td>\n",
       "      <td>35232</td>\n",
       "      <td>1946</td>\n",
       "      <td>NaN</td>\n",
       "      <td>NaN</td>\n",
       "      <td>8</td>\n",
       "    </tr>\n",
       "    <tr>\n",
       "      <th>mean</th>\n",
       "      <td>NaN</td>\n",
       "      <td>NaN</td>\n",
       "      <td>NaN</td>\n",
       "      <td>NaN</td>\n",
       "      <td>NaN</td>\n",
       "      <td>NaN</td>\n",
       "      <td>NaN</td>\n",
       "      <td>2005.073280</td>\n",
       "      <td>NaN</td>\n",
       "      <td>116.355920</td>\n",
       "      <td>NaN</td>\n",
       "      <td>NaN</td>\n",
       "      <td>5.723360</td>\n",
       "      <td>NaN</td>\n",
       "      <td>NaN</td>\n",
       "      <td>NaN</td>\n",
       "      <td>NaN</td>\n",
       "      <td>0.0</td>\n",
       "      <td>50813.627300</td>\n",
       "      <td>NaN</td>\n",
       "    </tr>\n",
       "    <tr>\n",
       "      <th>std</th>\n",
       "      <td>NaN</td>\n",
       "      <td>NaN</td>\n",
       "      <td>NaN</td>\n",
       "      <td>NaN</td>\n",
       "      <td>NaN</td>\n",
       "      <td>NaN</td>\n",
       "      <td>NaN</td>\n",
       "      <td>105.712813</td>\n",
       "      <td>NaN</td>\n",
       "      <td>209.216627</td>\n",
       "      <td>NaN</td>\n",
       "      <td>NaN</td>\n",
       "      <td>3.711984</td>\n",
       "      <td>NaN</td>\n",
       "      <td>NaN</td>\n",
       "      <td>NaN</td>\n",
       "      <td>NaN</td>\n",
       "      <td>0.0</td>\n",
       "      <td>25779.747957</td>\n",
       "      <td>NaN</td>\n",
       "    </tr>\n",
       "    <tr>\n",
       "      <th>min</th>\n",
       "      <td>NaN</td>\n",
       "      <td>NaN</td>\n",
       "      <td>NaN</td>\n",
       "      <td>NaN</td>\n",
       "      <td>NaN</td>\n",
       "      <td>NaN</td>\n",
       "      <td>NaN</td>\n",
       "      <td>1000.000000</td>\n",
       "      <td>NaN</td>\n",
       "      <td>0.000000</td>\n",
       "      <td>NaN</td>\n",
       "      <td>NaN</td>\n",
       "      <td>0.000000</td>\n",
       "      <td>NaN</td>\n",
       "      <td>NaN</td>\n",
       "      <td>NaN</td>\n",
       "      <td>NaN</td>\n",
       "      <td>0.0</td>\n",
       "      <td>1067.000000</td>\n",
       "      <td>NaN</td>\n",
       "    </tr>\n",
       "    <tr>\n",
       "      <th>25%</th>\n",
       "      <td>NaN</td>\n",
       "      <td>NaN</td>\n",
       "      <td>NaN</td>\n",
       "      <td>NaN</td>\n",
       "      <td>NaN</td>\n",
       "      <td>NaN</td>\n",
       "      <td>NaN</td>\n",
       "      <td>1999.000000</td>\n",
       "      <td>NaN</td>\n",
       "      <td>70.000000</td>\n",
       "      <td>NaN</td>\n",
       "      <td>NaN</td>\n",
       "      <td>3.000000</td>\n",
       "      <td>NaN</td>\n",
       "      <td>NaN</td>\n",
       "      <td>NaN</td>\n",
       "      <td>NaN</td>\n",
       "      <td>0.0</td>\n",
       "      <td>30451.000000</td>\n",
       "      <td>NaN</td>\n",
       "    </tr>\n",
       "    <tr>\n",
       "      <th>50%</th>\n",
       "      <td>NaN</td>\n",
       "      <td>NaN</td>\n",
       "      <td>NaN</td>\n",
       "      <td>NaN</td>\n",
       "      <td>NaN</td>\n",
       "      <td>NaN</td>\n",
       "      <td>NaN</td>\n",
       "      <td>2003.000000</td>\n",
       "      <td>NaN</td>\n",
       "      <td>105.000000</td>\n",
       "      <td>NaN</td>\n",
       "      <td>NaN</td>\n",
       "      <td>6.000000</td>\n",
       "      <td>NaN</td>\n",
       "      <td>NaN</td>\n",
       "      <td>NaN</td>\n",
       "      <td>NaN</td>\n",
       "      <td>0.0</td>\n",
       "      <td>49577.000000</td>\n",
       "      <td>NaN</td>\n",
       "    </tr>\n",
       "    <tr>\n",
       "      <th>75%</th>\n",
       "      <td>NaN</td>\n",
       "      <td>NaN</td>\n",
       "      <td>NaN</td>\n",
       "      <td>NaN</td>\n",
       "      <td>NaN</td>\n",
       "      <td>NaN</td>\n",
       "      <td>NaN</td>\n",
       "      <td>2008.000000</td>\n",
       "      <td>NaN</td>\n",
       "      <td>150.000000</td>\n",
       "      <td>NaN</td>\n",
       "      <td>NaN</td>\n",
       "      <td>9.000000</td>\n",
       "      <td>NaN</td>\n",
       "      <td>NaN</td>\n",
       "      <td>NaN</td>\n",
       "      <td>NaN</td>\n",
       "      <td>0.0</td>\n",
       "      <td>71540.000000</td>\n",
       "      <td>NaN</td>\n",
       "    </tr>\n",
       "    <tr>\n",
       "      <th>max</th>\n",
       "      <td>NaN</td>\n",
       "      <td>NaN</td>\n",
       "      <td>NaN</td>\n",
       "      <td>NaN</td>\n",
       "      <td>NaN</td>\n",
       "      <td>NaN</td>\n",
       "      <td>NaN</td>\n",
       "      <td>9999.000000</td>\n",
       "      <td>NaN</td>\n",
       "      <td>17700.000000</td>\n",
       "      <td>NaN</td>\n",
       "      <td>NaN</td>\n",
       "      <td>12.000000</td>\n",
       "      <td>NaN</td>\n",
       "      <td>NaN</td>\n",
       "      <td>NaN</td>\n",
       "      <td>NaN</td>\n",
       "      <td>0.0</td>\n",
       "      <td>99998.000000</td>\n",
       "      <td>NaN</td>\n",
       "    </tr>\n",
       "  </tbody>\n",
       "</table>\n",
       "</div>"
      ],
      "text/plain": [
       "               date_crawled         name  seller offer_type  price ab_test  \\\n",
       "count                 50000        50000   50000      50000  50000   50000   \n",
       "unique                48213        38754       2          2   2357       2   \n",
       "top     2016-03-23 18:39:34  Ford_Fiesta  privat    Angebot     $0    test   \n",
       "freq                      3           78   49999      49999   1421   25756   \n",
       "mean                    NaN          NaN     NaN        NaN    NaN     NaN   \n",
       "std                     NaN          NaN     NaN        NaN    NaN     NaN   \n",
       "min                     NaN          NaN     NaN        NaN    NaN     NaN   \n",
       "25%                     NaN          NaN     NaN        NaN    NaN     NaN   \n",
       "50%                     NaN          NaN     NaN        NaN    NaN     NaN   \n",
       "75%                     NaN          NaN     NaN        NaN    NaN     NaN   \n",
       "max                     NaN          NaN     NaN        NaN    NaN     NaN   \n",
       "\n",
       "       vehicle_type  registration_year  gearbox      power_ps  model  \\\n",
       "count         44905       50000.000000    47320  50000.000000  47242   \n",
       "unique            8                NaN        2           NaN    245   \n",
       "top       limousine                NaN  manuell           NaN   golf   \n",
       "freq          12859                NaN    36993           NaN   4024   \n",
       "mean            NaN        2005.073280      NaN    116.355920    NaN   \n",
       "std             NaN         105.712813      NaN    209.216627    NaN   \n",
       "min             NaN        1000.000000      NaN      0.000000    NaN   \n",
       "25%             NaN        1999.000000      NaN     70.000000    NaN   \n",
       "50%             NaN        2003.000000      NaN    105.000000    NaN   \n",
       "75%             NaN        2008.000000      NaN    150.000000    NaN   \n",
       "max             NaN        9999.000000      NaN  17700.000000    NaN   \n",
       "\n",
       "         odometer  registration_month fuel_type       brand unrepaired_damage  \\\n",
       "count       50000        50000.000000     45518       50000             40171   \n",
       "unique         13                 NaN         7          40                 2   \n",
       "top     150,000km                 NaN    benzin  volkswagen              nein   \n",
       "freq        32424                 NaN     30107       10687             35232   \n",
       "mean          NaN            5.723360       NaN         NaN               NaN   \n",
       "std           NaN            3.711984       NaN         NaN               NaN   \n",
       "min           NaN            0.000000       NaN         NaN               NaN   \n",
       "25%           NaN            3.000000       NaN         NaN               NaN   \n",
       "50%           NaN            6.000000       NaN         NaN               NaN   \n",
       "75%           NaN            9.000000       NaN         NaN               NaN   \n",
       "max           NaN           12.000000       NaN         NaN               NaN   \n",
       "\n",
       "                 ad_created  num_pictures   postal_code            last_seen  \n",
       "count                 50000       50000.0  50000.000000                50000  \n",
       "unique                   76           NaN           NaN                39481  \n",
       "top     2016-04-03 00:00:00           NaN           NaN  2016-04-07 06:17:27  \n",
       "freq                   1946           NaN           NaN                    8  \n",
       "mean                    NaN           0.0  50813.627300                  NaN  \n",
       "std                     NaN           0.0  25779.747957                  NaN  \n",
       "min                     NaN           0.0   1067.000000                  NaN  \n",
       "25%                     NaN           0.0  30451.000000                  NaN  \n",
       "50%                     NaN           0.0  49577.000000                  NaN  \n",
       "75%                     NaN           0.0  71540.000000                  NaN  \n",
       "max                     NaN           0.0  99998.000000                  NaN  "
      ]
     },
     "execution_count": 41,
     "metadata": {},
     "output_type": "execute_result"
    }
   ],
   "source": [
    "# describe the data frame\n",
    "autos.describe(include='all')"
   ]
  },
  {
   "cell_type": "markdown",
   "metadata": {},
   "source": [
    "# Data set findings\n",
    "\n",
    "'privat' in the seller columns is mispelled. Registration year appears to be a float data type. 'manuell' is mispelled in the gearbox column. odometer has 'km' and does not appear to be a text field. Registration month appears to be a float data type. The 'price' field has a $ in the values, so it would have to be a text type."
   ]
  },
  {
   "cell_type": "code",
   "execution_count": 42,
   "metadata": {
    "collapsed": false
   },
   "outputs": [],
   "source": [
    "# replace price text values to be float data type\n",
    "new_prices = []\n",
    "for value in autos['price']:\n",
    "    float_val = value.replace('$','')\n",
    "    float_val = float_val.replace(',','')\n",
    "    float_val = float(float_val)\n",
    "    new_prices.append(float_val)\n",
    "    \n",
    "autos['price'] = new_prices"
   ]
  },
  {
   "cell_type": "code",
   "execution_count": 43,
   "metadata": {
    "collapsed": false
   },
   "outputs": [],
   "source": [
    "# replace odometer text values to be float data type\n",
    "new_odm = []\n",
    "for record in autos['odometer']:\n",
    "    float_value = record.replace('km','')\n",
    "    float_value = float_value.replace(',','')\n",
    "    float_value = float(float_value)\n",
    "    new_odm.append(float_value)\n",
    "    \n",
    "autos['odometer'] = new_odm"
   ]
  },
  {
   "cell_type": "code",
   "execution_count": 68,
   "metadata": {
    "collapsed": false
   },
   "outputs": [
    {
     "data": {
      "text/plain": [
       "Index(['date_crawled', 'name', 'seller', 'offer_type', 'price', 'ab_test',\n",
       "       'vehicle_type', 'registration_year', 'gearbox', 'power_ps', 'model',\n",
       "       'odometer_km', 'registration_month', 'fuel_type', 'brand',\n",
       "       'unrepaired_damage', 'ad_created', 'num_pictures', 'postal_code',\n",
       "       'last_seen'],\n",
       "      dtype='object')"
      ]
     },
     "execution_count": 68,
     "metadata": {},
     "output_type": "execute_result"
    }
   ],
   "source": [
    "# rename 'odometer' column to 'odometer_km'\n",
    "autos.rename(columns={\"odometer\":\"odometer_km\"}, inplace=True)\n",
    "autos.columns"
   ]
  },
  {
   "cell_type": "code",
   "execution_count": 69,
   "metadata": {
    "collapsed": false
   },
   "outputs": [
    {
     "data": {
      "text/plain": [
       "5000.0        967\n",
       "10000.0       264\n",
       "20000.0       784\n",
       "30000.0       789\n",
       "40000.0       819\n",
       "50000.0      1027\n",
       "60000.0      1164\n",
       "70000.0      1230\n",
       "80000.0      1436\n",
       "90000.0      1757\n",
       "100000.0     2169\n",
       "125000.0     5170\n",
       "150000.0    32424\n",
       "Name: odometer_km, dtype: int64"
      ]
     },
     "execution_count": 69,
     "metadata": {},
     "output_type": "execute_result"
    }
   ],
   "source": [
    "# view sorted frequency count of unique values for the odometer_km column\n",
    "autos['odometer_km'].value_counts().sort_index(ascending=True).head(50)"
   ]
  },
  {
   "cell_type": "code",
   "execution_count": 73,
   "metadata": {
    "collapsed": false
   },
   "outputs": [],
   "source": [
    "# remove outliers in price column\n",
    "autos = autos[autos['price'].between(100, 5000000)]"
   ]
  },
  {
   "cell_type": "code",
   "execution_count": 74,
   "metadata": {
    "collapsed": false
   },
   "outputs": [
    {
     "data": {
      "text/plain": [
       "3890000.0    1\n",
       "1300000.0    1\n",
       "1234566.0    1\n",
       "999999.0     2\n",
       "999990.0     1\n",
       "350000.0     1\n",
       "345000.0     1\n",
       "299000.0     1\n",
       "295000.0     1\n",
       "265000.0     1\n",
       "Name: price, dtype: int64"
      ]
     },
     "execution_count": 74,
     "metadata": {},
     "output_type": "execute_result"
    }
   ],
   "source": [
    "# view sorted frequency count of unique values for the updated price column\n",
    "autos['price'].value_counts().sort_index(ascending=False).head(10)"
   ]
  },
  {
   "cell_type": "markdown",
   "metadata": {},
   "source": [
    "# Remove Outliers\n",
    "\n",
    "The code above removed rows from the data set where the price was greater than 5 million, or under 100. This prices are unrealistically high or low for a car. The values that remain in the data set should more realistically reflect the price for a car."
   ]
  },
  {
   "cell_type": "code",
   "execution_count": 82,
   "metadata": {
    "collapsed": false
   },
   "outputs": [
    {
     "data": {
      "text/plain": [
       "2016-04-07 14:58:50    3\n",
       "2016-04-07 14:58:48    3\n",
       "2016-04-07 14:58:46    1\n",
       "2016-04-07 14:58:45    1\n",
       "2016-04-07 14:58:44    3\n",
       "2016-04-07 14:58:42    2\n",
       "2016-04-07 14:58:41    1\n",
       "2016-04-07 14:58:40    1\n",
       "2016-04-07 14:58:38    1\n",
       "2016-04-07 14:58:37    1\n",
       "2016-04-07 14:58:36    3\n",
       "2016-04-07 14:58:34    2\n",
       "2016-04-07 14:58:33    2\n",
       "2016-04-07 14:58:31    2\n",
       "2016-04-07 14:58:29    3\n",
       "2016-04-07 14:58:28    2\n",
       "2016-04-07 14:58:27    2\n",
       "2016-04-07 14:58:26    2\n",
       "2016-04-07 14:58:25    1\n",
       "2016-04-07 14:58:24    2\n",
       "Name: last_seen, dtype: int64"
      ]
     },
     "execution_count": 82,
     "metadata": {},
     "output_type": "execute_result"
    }
   ],
   "source": [
    "# understand the date distribution for 3 date columns\n",
    "autos['last_seen'].value_counts().sort_index(ascending=False).head(20)"
   ]
  },
  {
   "cell_type": "code",
   "execution_count": 85,
   "metadata": {
    "collapsed": false
   },
   "outputs": [
    {
     "data": {
      "text/plain": [
       "count    48230.000000\n",
       "mean      2004.729795\n",
       "std         87.892058\n",
       "min       1000.000000\n",
       "25%       1999.000000\n",
       "50%       2004.000000\n",
       "75%       2008.000000\n",
       "max       9999.000000\n",
       "Name: registration_year, dtype: float64"
      ]
     },
     "execution_count": 85,
     "metadata": {},
     "output_type": "execute_result"
    }
   ],
   "source": [
    "# describe the date columns\n",
    "autos['registration_year'].describe()"
   ]
  },
  {
   "cell_type": "markdown",
   "metadata": {},
   "source": [
    "# Date statistics\n",
    "\n",
    "The code above depicts that the 'registration_year' column contains a minimum value of 1000, which is unrealistic. The maximum value is 9999, which is also unrealistic. \n",
    "\n",
    "The following date ranges were observed for the respective date columns:\n",
    "\n",
    "**date_crawled:** \n",
    "March 05 2016 to April 07 2016\n",
    "\n",
    "**ad_created:**\n",
    "June 11 2015 to April 07 2016\n",
    "\n",
    "**last_seen:**\n",
    "March 05 2016 to April 07 2016"
   ]
  },
  {
   "cell_type": "code",
   "execution_count": 90,
   "metadata": {
    "collapsed": false
   },
   "outputs": [],
   "source": [
    "# remove records with registration year below 1950 or above 2016\n",
    "autos = autos[autos['registration_year'].between(1950, 2016)]"
   ]
  },
  {
   "cell_type": "code",
   "execution_count": 93,
   "metadata": {
    "collapsed": false
   },
   "outputs": [
    {
     "data": {
      "text/plain": [
       "2016    0.025938\n",
       "2015    0.008200\n",
       "2014    0.014285\n",
       "2013    0.017285\n",
       "2012    0.028226\n",
       "2011    0.034915\n",
       "2010    0.034246\n",
       "2009    0.044906\n",
       "2008    0.047690\n",
       "2007    0.049049\n",
       "2006    0.057595\n",
       "2005    0.062817\n",
       "2004    0.058242\n",
       "2003    0.058113\n",
       "2002    0.053452\n",
       "2001    0.056732\n",
       "2000    0.066982\n",
       "1999    0.062148\n",
       "1998    0.050495\n",
       "1997    0.041540\n",
       "1996    0.029240\n",
       "1995    0.025744\n",
       "1994    0.013509\n",
       "1993    0.009063\n",
       "1992    0.007941\n",
       "1991    0.007294\n",
       "1990    0.007164\n",
       "1989    0.003690\n",
       "1988    0.002870\n",
       "1987    0.001554\n",
       "Name: registration_year, dtype: float64"
      ]
     },
     "execution_count": 93,
     "metadata": {},
     "output_type": "execute_result"
    }
   ],
   "source": [
    "# view the registration years highest and lowest values and the frequency\n",
    "autos['registration_year'].value_counts(normalize=True).sort_index(ascending=False).head(30)"
   ]
  },
  {
   "cell_type": "code",
   "execution_count": 108,
   "metadata": {
    "collapsed": false
   },
   "outputs": [],
   "source": [
    "# aggregate the average price by unique brand\n",
    "\n",
    "unique_brands = []\n",
    "\n",
    "for brand in autos['brand']:\n",
    "    if brand not in unique_brands:\n",
    "        unique_brands.append(brand)\n",
    "        \n",
    "mean_brand_prices = {}\n",
    "\n",
    "for record in unique_brands:\n",
    "    selected_rows = autos[autos['brand'] == record]\n",
    "    mean_brand_prices[record] = selected_rows['price'].mean()"
   ]
  },
  {
   "cell_type": "code",
   "execution_count": 112,
   "metadata": {
    "collapsed": false
   },
   "outputs": [
    {
     "name": "stdout",
     "output_type": "stream",
     "text": [
      "toyota\n",
      "5167.091062394604\n",
      "land_rover\n",
      "19108.091836734693\n",
      "peugeot\n",
      "3113.860549132948\n",
      "ford\n",
      "4074.959196290572\n",
      "alfa_romeo\n",
      "4100.915857605178\n",
      "jaguar\n",
      "11961.56338028169\n",
      "sonstige_autos\n",
      "24579.36842105263\n",
      "dacia\n",
      "5915.528455284553\n",
      "honda\n",
      "4119.109589041096\n",
      "suzuki\n",
      "4126.341818181818\n",
      "renault\n",
      "2496.940394314535\n",
      "fiat\n",
      "2836.8736310025274\n",
      "mitsubishi\n",
      "3439.10290237467\n",
      "volkswagen\n",
      "5636.200306122449\n",
      "chevrolet\n",
      "6759.885931558935\n",
      "skoda\n",
      "6409.609724047306\n",
      "nissan\n",
      "4756.659634317863\n",
      "citroen\n",
      "3796.26267281106\n",
      "saab\n",
      "3211.6493506493507\n",
      "porsche\n",
      "46788.444444444445\n",
      "chrysler\n",
      "3486.5766871165642\n",
      "daihatsu\n",
      "1649.655172413793\n",
      "volvo\n",
      "4993.208037825059\n",
      "smart\n",
      "3596.40273556231\n",
      "hyundai\n",
      "5411.075431034483\n",
      "kia\n",
      "6018.442073170731\n",
      "subaru\n",
      "4033.7551020408164\n",
      "daewoo\n",
      "1064.0579710144928\n",
      "audi\n",
      "9380.718547986076\n",
      "mercedes_benz\n",
      "8669.448637784726\n",
      "lada\n",
      "2688.296296296296\n",
      "lancia\n",
      "3444.877551020408\n",
      "trabant\n",
      "1846.5238095238096\n",
      "opel\n",
      "3005.9309720265646\n",
      "seat\n",
      "4433.419621749409\n",
      "mazda\n",
      "4129.774787535411\n",
      "mini\n",
      "10639.450980392157\n",
      "bmw\n",
      "8621.165459173682\n",
      "jeep\n",
      "11650.5\n",
      "rover\n",
      "1602.2903225806451\n"
     ]
    }
   ],
   "source": [
    "# print the mean price by brand\n",
    "for i in mean_brand_prices:\n",
    "    print(i)\n",
    "    print(mean_brand_prices[i])"
   ]
  },
  {
   "cell_type": "markdown",
   "metadata": {},
   "source": [
    "# Observations\n",
    "\n",
    "The 'Rover' brand only costs 1602 on average, and sonstige_autos cost approximately 24,000 on average. Most car prices from the data set are between 3,000 and 9,000."
   ]
  },
  {
   "cell_type": "code",
   "execution_count": 113,
   "metadata": {
    "collapsed": false
   },
   "outputs": [
    {
     "name": "stdout",
     "output_type": "stream",
     "text": [
      "                mean_mileage   mean_price\n",
      "audi           129245.400298  9380.718548\n",
      "bmw            132723.712551  8621.165459\n",
      "ford           124386.398764  4074.959196\n",
      "mercedes_benz  131069.673962  8669.448638\n",
      "opel           129405.312940  3005.930972\n",
      "volkswagen     128807.142857  5636.200306\n"
     ]
    }
   ],
   "source": [
    "# calculate the the mean mileage and price for some of the top several brands\n",
    "top_brands = ['audi', 'bmw', 'ford', 'volkswagen', 'opel', 'mercedes_benz']\n",
    "\n",
    "avg_mileage_by_brand = {}\n",
    "avg_price_by_brand = {}\n",
    "\n",
    "for i in top_brands:\n",
    "    sel_rows = autos[autos['brand'] == i]\n",
    "    mn_price = sel_rows['price'].mean()\n",
    "    mn_miles = sel_rows['odometer_km'].mean()\n",
    "    avg_mileage_by_brand[i] = mn_miles\n",
    "    avg_price_by_brand[i] = mn_price\n",
    "    \n",
    "mileage_series = pd.Series(avg_mileage_by_brand)\n",
    "price_series = pd.Series(avg_price_by_brand)\n",
    "\n",
    "mileage_price_by_brand = pd.DataFrame(mileage_series, columns=['mean_mileage'])\n",
    "mileage_price_by_brand['mean_price'] = price_series\n",
    "\n",
    "print(mileage_price_by_brand)"
   ]
  },
  {
   "cell_type": "markdown",
   "metadata": {},
   "source": [
    "# Observation\n",
    "\n",
    "There appears to be no significant correlation between average mileage and average price for some of the top brands. The most expensive of the set (Audi) has an average mileage somewhere in the middle of the set, whereas the second most expensive of the set (Mercedes Benz) has the highest mileage."
   ]
  }
 ],
 "metadata": {
  "kernelspec": {
   "display_name": "Python 3",
   "language": "python",
   "name": "python3"
  },
  "language_info": {
   "codemirror_mode": {
    "name": "ipython",
    "version": 3
   },
   "file_extension": ".py",
   "mimetype": "text/x-python",
   "name": "python",
   "nbconvert_exporter": "python",
   "pygments_lexer": "ipython3",
   "version": "3.4.3"
  }
 },
 "nbformat": 4,
 "nbformat_minor": 2
}
