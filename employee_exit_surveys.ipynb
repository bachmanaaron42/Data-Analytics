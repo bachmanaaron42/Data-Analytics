{
 "cells": [
  {
   "cell_type": "markdown",
   "metadata": {
    "collapsed": true
   },
   "source": [
    "# Exit Survey Analysis\n",
    "\n",
    "This analysis will explore reasons that both younger and older employees are leaving their jobs, as well as newer or more experienced employees (and why they are leaving their jobs)."
   ]
  },
  {
   "cell_type": "code",
   "execution_count": 1,
   "metadata": {
    "collapsed": true
   },
   "outputs": [],
   "source": [
    "# import pandas and read the csv file into a dataframe\n",
    "import pandas as pd\n",
    "dete_survey = pd.read_csv('dete_survey.csv')\n",
    "tafe_survey = pd.read_csv('tafe_survey.csv')\n",
    "\n",
    "# ignore Jupyter warnings\n",
    "import warnings\n",
    "warnings.filterwarnings('ignore')"
   ]
  },
  {
   "cell_type": "code",
   "execution_count": 2,
   "metadata": {
    "collapsed": false
   },
   "outputs": [
    {
     "data": {
      "text/plain": [
       "(822, 56)"
      ]
     },
     "execution_count": 2,
     "metadata": {},
     "output_type": "execute_result"
    }
   ],
   "source": [
    "# explore the data frames\n",
    "\n",
    "# tafe_survey.info()\n",
    "# dete_survey.isnull().sum()\n",
    "# tafe_survey['column'].value_counts()\n",
    "# tafe_survey.head()\n",
    "dete_survey.shape"
   ]
  },
  {
   "cell_type": "markdown",
   "metadata": {},
   "source": [
    "The DETE survey data set contains 822 rows and 56 columns. Many of the columns are reasons for exiting employment. There are 18 Bool columns, which indicated True or False for a reason the employee left. There are also 37 string columns that appear to contain codes, such as 'A', 'AS', etc. There are various columns in the DETE data set that have (in some cases) hundreds of NULL values.\n",
    "\n",
    "The TAFE data set contains 702 rows and 72 columns. Many of the columns are labeled as questions and contain string data types for the response to the question, which appear to contain Yes or No answers. The TAFE data set also contains several columns which have over 100 NULL values."
   ]
  },
  {
   "cell_type": "code",
   "execution_count": 3,
   "metadata": {
    "collapsed": true
   },
   "outputs": [],
   "source": [
    "# read DETE survey results back into a dataframe, but read 'Not Stated' as NaN\n",
    "dete_survey = pd.read_csv('dete_survey.csv', na_values='Not Stated')\n",
    "tafe_survey = pd.read_csv('tafe_survey.csv', na_values='Not Stated')\n",
    "# drop columns not needed for the analysis and save new data frames\n",
    "dete_survey_updated = dete_survey.drop(dete_survey.columns[28:49], axis=1)\n",
    "tafe_survey_updated = tafe_survey.drop(tafe_survey.columns[17:66], axis=1)"
   ]
  },
  {
   "cell_type": "markdown",
   "metadata": {},
   "source": [
    "Above, several columns were dropped from both data sets that were not being used in the analysis."
   ]
  },
  {
   "cell_type": "code",
   "execution_count": 4,
   "metadata": {
    "collapsed": false
   },
   "outputs": [],
   "source": [
    "# update column names to be consitent in both data sets\n",
    "dete_survey_updated.columns = dete_survey_updated.columns.str.lower().str.replace(' ', '_').str.strip()\n",
    "tafe_survey_updated.rename(columns={\n",
    "    'Record ID':'id',\n",
    "    'CESSATION YEAR':'cease_date',\n",
    "    'Reason for ceasing employment':'separationtype',\n",
    "    'Gender. What is your Gender?':'gender',\n",
    "    'CurrentAge. Current Age':'age',\n",
    "    'Employment Type. Employment Type':'employment_status',\n",
    "    'Classification. Classification':'position',\n",
    "    'LengthofServiceOverall. Overall Length of Service at Institute (in years)':'institute_service',\n",
    "    'LengthofServiceCurrent. Length of Service at current workplace (in years)':'role_service'\n",
    "}, inplace=True)"
   ]
  },
  {
   "cell_type": "code",
   "execution_count": 5,
   "metadata": {
    "collapsed": false
   },
   "outputs": [
    {
     "name": "stdout",
     "output_type": "stream",
     "text": [
      "<class 'pandas.core.frame.DataFrame'>\n",
      "RangeIndex: 702 entries, 0 to 701\n",
      "Data columns (total 23 columns):\n",
      "id                                                     702 non-null float64\n",
      "Institute                                              702 non-null object\n",
      "WorkArea                                               702 non-null object\n",
      "cease_date                                             695 non-null float64\n",
      "separationtype                                         701 non-null object\n",
      "Contributing Factors. Career Move - Public Sector      437 non-null object\n",
      "Contributing Factors. Career Move - Private Sector     437 non-null object\n",
      "Contributing Factors. Career Move - Self-employment    437 non-null object\n",
      "Contributing Factors. Ill Health                       437 non-null object\n",
      "Contributing Factors. Maternity/Family                 437 non-null object\n",
      "Contributing Factors. Dissatisfaction                  437 non-null object\n",
      "Contributing Factors. Job Dissatisfaction              437 non-null object\n",
      "Contributing Factors. Interpersonal Conflict           437 non-null object\n",
      "Contributing Factors. Study                            437 non-null object\n",
      "Contributing Factors. Travel                           437 non-null object\n",
      "Contributing Factors. Other                            437 non-null object\n",
      "Contributing Factors. NONE                             437 non-null object\n",
      "gender                                                 596 non-null object\n",
      "age                                                    596 non-null object\n",
      "employment_status                                      596 non-null object\n",
      "position                                               596 non-null object\n",
      "institute_service                                      596 non-null object\n",
      "role_service                                           596 non-null object\n",
      "dtypes: float64(2), object(21)\n",
      "memory usage: 126.2+ KB\n"
     ]
    }
   ],
   "source": [
    "# explore the newly named columns\n",
    "tafe_survey_updated.info()"
   ]
  },
  {
   "cell_type": "markdown",
   "metadata": {},
   "source": [
    "In the cell above, the columns were renamed to be more clear, descriptive, and easier to handle"
   ]
  },
  {
   "cell_type": "code",
   "execution_count": 6,
   "metadata": {
    "collapsed": false
   },
   "outputs": [
    {
     "data": {
      "text/plain": [
       "Resignation                 340\n",
       "Contract Expired            127\n",
       "Retrenchment/ Redundancy    104\n",
       "Retirement                   82\n",
       "Transfer                     25\n",
       "Termination                  23\n",
       "NaN                           1\n",
       "Name: separationtype, dtype: int64"
      ]
     },
     "execution_count": 6,
     "metadata": {},
     "output_type": "execute_result"
    }
   ],
   "source": [
    "# review unique values in the 'separationtype' column\n",
    "tafe_survey_updated['separationtype'].value_counts(dropna=False)"
   ]
  },
  {
   "cell_type": "code",
   "execution_count": 7,
   "metadata": {
    "collapsed": false
   },
   "outputs": [
    {
     "data": {
      "text/plain": [
       "Resignation    340\n",
       "Name: separationtype, dtype: int64"
      ]
     },
     "execution_count": 7,
     "metadata": {},
     "output_type": "execute_result"
    }
   ],
   "source": [
    "# create new data frames containing only 'Resignation' separations\n",
    "dete_resignations = dete_survey_updated[dete_survey_updated['separationtype'].str.contains('Resignation')]\n",
    "tafe_resignations = tafe_survey_updated[tafe_survey_updated['separationtype'].str.contains('Resignation', na=False)]\n",
    "\n",
    "# validate the results\n",
    "tafe_resignations['separationtype'].value_counts()"
   ]
  },
  {
   "cell_type": "markdown",
   "metadata": {},
   "source": [
    "The cell above created 2 new data frams that contain only records where the 'separationtype' contains the string 'Resigned', so that we can analyze the contributing factors specific to resignation"
   ]
  },
  {
   "cell_type": "code",
   "execution_count": 8,
   "metadata": {
    "collapsed": false
   },
   "outputs": [
    {
     "data": {
      "text/plain": [
       "2012       126\n",
       "2013        74\n",
       "01/2014     22\n",
       "12/2013     17\n",
       "06/2013     14\n",
       "09/2013     11\n",
       "11/2013      9\n",
       "07/2013      9\n",
       "10/2013      6\n",
       "08/2013      4\n",
       "05/2012      2\n",
       "05/2013      2\n",
       "07/2006      1\n",
       "07/2012      1\n",
       "2010         1\n",
       "09/2010      1\n",
       "Name: cease_date, dtype: int64"
      ]
     },
     "execution_count": 8,
     "metadata": {},
     "output_type": "execute_result"
    }
   ],
   "source": [
    "# check for logical inconsistencies in the date columns\n",
    "dete_resignations['cease_date'].value_counts()"
   ]
  },
  {
   "cell_type": "code",
   "execution_count": 9,
   "metadata": {
    "collapsed": false
   },
   "outputs": [
    {
     "data": {
      "text/plain": [
       "2013.0    146\n",
       "2012.0    129\n",
       "2014.0     22\n",
       "2010.0      2\n",
       "2006.0      1\n",
       "Name: cease_date, dtype: int64"
      ]
     },
     "execution_count": 9,
     "metadata": {},
     "output_type": "execute_result"
    }
   ],
   "source": [
    "# clean the date column\n",
    "dete_resignations['cease_date'] = dete_resignations['cease_date'].str.extract(r'(20[0-1][0-9])').astype(float)\n",
    "\n",
    "# verify the cleaning\n",
    "dete_resignations['cease_date'].value_counts()"
   ]
  },
  {
   "cell_type": "code",
   "execution_count": 10,
   "metadata": {
    "collapsed": false
   },
   "outputs": [
    {
     "data": {
      "text/plain": [
       "2011.0    116\n",
       "2012.0     94\n",
       "2010.0     68\n",
       "2013.0     55\n",
       "2009.0      2\n",
       "Name: cease_date, dtype: int64"
      ]
     },
     "execution_count": 10,
     "metadata": {},
     "output_type": "execute_result"
    }
   ],
   "source": [
    "# check unique values for date columns\n",
    "#dete_resignations['cease_date'].value_counts()\n",
    "#dete_resignations['dete_start_date'].value_counts()\n",
    "tafe_resignations['cease_date'].value_counts()"
   ]
  },
  {
   "cell_type": "markdown",
   "metadata": {},
   "source": [
    "After cleaning the date columns, the dates make logical sense for both data sets."
   ]
  },
  {
   "cell_type": "code",
   "execution_count": 11,
   "metadata": {
    "collapsed": false
   },
   "outputs": [],
   "source": [
    "# create a corresponding years of service column in the DETE data set to reflect the TAFE data set structure\n",
    "dete_resignations['institute_service'] = dete_resignations['cease_date'] - dete_resignations['dete_start_date']"
   ]
  },
  {
   "cell_type": "markdown",
   "metadata": {},
   "source": [
    "A new columna called 'institute_service' has been added to the DETE data set to reflect the column structure of the TAFE data set"
   ]
  },
  {
   "cell_type": "code",
   "execution_count": 12,
   "metadata": {
    "collapsed": false
   },
   "outputs": [
    {
     "data": {
      "text/plain": [
       "3    -\n",
       "4    -\n",
       "5    -\n",
       "6    -\n",
       "7    -\n",
       "Name: Contributing Factors. Job Dissatisfaction, dtype: object"
      ]
     },
     "execution_count": 12,
     "metadata": {},
     "output_type": "execute_result"
    }
   ],
   "source": [
    "# verify the values\n",
    "#tafe_resignations['Contributing Factors. Dissatisfaction'].value_counts()\n",
    "tafe_resignations['Contributing Factors. Job Dissatisfaction'].head()"
   ]
  },
  {
   "cell_type": "code",
   "execution_count": 15,
   "metadata": {
    "collapsed": false
   },
   "outputs": [],
   "source": [
    "import numpy as np\n",
    "\n",
    "# define function to update columns to contain True, False, or NaN values\n",
    "def update_vals(elem):\n",
    "    if pd.isnull(elem):\n",
    "        return np.nan\n",
    "    elif elem == '-':\n",
    "        return False\n",
    "    else:\n",
    "        return True"
   ]
  },
  {
   "cell_type": "code",
   "execution_count": 16,
   "metadata": {
    "collapsed": false,
    "scrolled": true
   },
   "outputs": [],
   "source": [
    "# create new dissatisfied column in both data sets\n",
    "tafe_resignations['dissatisfied'] = tafe_resignations[['Contributing Factors. Dissatisfaction', 'Contributing Factors. Job Dissatisfaction']].applymap(update_vals).any(axis=1, skipna=False)\n",
    "dete_resignations['dissatisfied'] = dete_resignations[['job_dissatisfaction',\n",
    "'dissatisfaction_with_the_department',\n",
    "'physical_work_environment',\n",
    "'lack_of_recognition',\n",
    "'lack_of_job_security',\n",
    "'work_location',\n",
    "'employment_conditions',\n",
    "'work_life_balance',\n",
    "'workload']].any(axis=1, skipna=False)\n",
    "\n",
    "# create a copy of the results\n",
    "dete_resignations_up = dete_resignations.copy()\n",
    "tafe_resignations_up = tafe_resignations.copy()"
   ]
  },
  {
   "cell_type": "code",
   "execution_count": 17,
   "metadata": {
    "collapsed": false
   },
   "outputs": [
    {
     "data": {
      "text/plain": [
       "False    162\n",
       "True     149\n",
       "Name: dissatisfied, dtype: int64"
      ]
     },
     "execution_count": 17,
     "metadata": {},
     "output_type": "execute_result"
    }
   ],
   "source": [
    "# check the values for each data frame\n",
    "dete_resignations_up['dissatisfied'].value_counts(dropna=False)"
   ]
  },
  {
   "cell_type": "markdown",
   "metadata": {},
   "source": [
    "Both data sets now have a 'dissatisfied' column that indicates whether an employee resigned due to dissatisfaction, or another reason."
   ]
  },
  {
   "cell_type": "code",
   "execution_count": 18,
   "metadata": {
    "collapsed": false
   },
   "outputs": [],
   "source": [
    "# add new columns to each data frame to identify the source of the data\n",
    "dete_resignations_up['institute'] = 'DETE'\n",
    "tafe_resignations_up['institute'] = 'TAFE'\n",
    "\n",
    "# combine the data sets into 1 data frame\n",
    "combined = pd.concat([dete_resignations_up, tafe_resignations_up])"
   ]
  },
  {
   "cell_type": "code",
   "execution_count": 19,
   "metadata": {
    "collapsed": true
   },
   "outputs": [],
   "source": [
    "# drop any columns with less than 500 non null values\n",
    "combined_updated = combined.dropna(axis=1, thresh=500)"
   ]
  },
  {
   "cell_type": "markdown",
   "metadata": {},
   "source": [
    "The cells above combined the data sets into 1, as well as dropped any columns that have fewer than 500 non null vales. There is also a new column in the data set that helps identify the source of the data."
   ]
  },
  {
   "cell_type": "code",
   "execution_count": 20,
   "metadata": {
    "collapsed": false
   },
   "outputs": [],
   "source": [
    "# display unique values for a column\n",
    "# combined_updated['institute_service'].value_counts(dropna=False)\n",
    "\n",
    "# transform each value into a string for the 'institute_service' column\n",
    "combined_updated['institute_service'] = combined_updated['institute_service'].astype(str)"
   ]
  },
  {
   "cell_type": "code",
   "execution_count": 21,
   "metadata": {
    "collapsed": false
   },
   "outputs": [
    {
     "name": "stdout",
     "output_type": "stream",
     "text": [
      "<class 'pandas.core.frame.DataFrame'>\n",
      "Int64Index: 651 entries, 3 to 701\n",
      "Data columns (total 10 columns):\n",
      "age                  596 non-null object\n",
      "cease_date           635 non-null float64\n",
      "dissatisfied         643 non-null object\n",
      "employment_status    597 non-null object\n",
      "gender               592 non-null object\n",
      "id                   651 non-null float64\n",
      "institute            651 non-null object\n",
      "institute_service    651 non-null object\n",
      "position             598 non-null object\n",
      "separationtype       651 non-null object\n",
      "dtypes: float64(2), object(8)\n",
      "memory usage: 55.9+ KB\n"
     ]
    }
   ],
   "source": [
    "# check new string values\n",
    "combined_updated.info()"
   ]
  },
  {
   "cell_type": "code",
   "execution_count": 22,
   "metadata": {
    "collapsed": false
   },
   "outputs": [],
   "source": [
    "# create 1 year value from all the strings\n",
    "import re\n",
    "combined_updated['institute_service'] = combined_updated['institute_service'].str.replace('More than', '')\n",
    "combined_updated['institute_service'] = combined_updated['institute_service'].str.replace('Less than', '')\n",
    "combined_updated['institute_service'] = combined_updated['institute_service'].str.replace('years', '')\n",
    "combined_updated['institute_service'] = combined_updated['institute_service'].str.replace('year', '')\n",
    "combined_updated['institute_service'] = combined_updated['institute_service'].str.extract(r'(\\d+)')"
   ]
  },
  {
   "cell_type": "code",
   "execution_count": 23,
   "metadata": {
    "collapsed": false
   },
   "outputs": [
    {
     "data": {
      "text/plain": [
       "1      159\n",
       "NaN     88\n",
       "3       83\n",
       "5       56\n",
       "7       34\n",
       "11      30\n",
       "0       20\n",
       "20      17\n",
       "6       17\n",
       "4       16\n",
       "2       14\n",
       "9       14\n",
       "8        8\n",
       "13       8\n",
       "15       7\n",
       "12       6\n",
       "17       6\n",
       "14       6\n",
       "22       6\n",
       "10       6\n",
       "18       5\n",
       "16       5\n",
       "24       4\n",
       "23       4\n",
       "21       3\n",
       "32       3\n",
       "39       3\n",
       "19       3\n",
       "25       2\n",
       "26       2\n",
       "30       2\n",
       "28       2\n",
       "36       2\n",
       "27       1\n",
       "35       1\n",
       "42       1\n",
       "34       1\n",
       "29       1\n",
       "49       1\n",
       "41       1\n",
       "33       1\n",
       "38       1\n",
       "31       1\n",
       "Name: institute_service, dtype: int64"
      ]
     },
     "execution_count": 23,
     "metadata": {},
     "output_type": "execute_result"
    }
   ],
   "source": [
    "# check new string values\n",
    "combined_updated['institute_service'].value_counts(dropna=False)"
   ]
  },
  {
   "cell_type": "code",
   "execution_count": 24,
   "metadata": {
    "collapsed": false
   },
   "outputs": [],
   "source": [
    "# convert the institute_service column to float data type\n",
    "combined_updated['institute_service'] = combined_updated['institute_service'].astype(float)"
   ]
  },
  {
   "cell_type": "code",
   "execution_count": 25,
   "metadata": {
    "collapsed": false
   },
   "outputs": [],
   "source": [
    "# map each years of service value to a category\n",
    "def define_category(elem):\n",
    "    if elem < 3:\n",
    "        return 'New'\n",
    "    elif elem >= 3 and elem <= 6:\n",
    "        return 'Experienced'\n",
    "    elif elem >= 7 and elem <=10:\n",
    "        return 'Established'\n",
    "    elif elem >= 11:\n",
    "        return 'Veteran'\n",
    "    elif pd.isnull(elem):\n",
    "        return np.nan\n",
    "    \n",
    "# apply the function to the institute_service column and create new column with results\n",
    "combined_updated['service_cat'] = combined_updated['institute_service'].apply(define_category)"
   ]
  },
  {
   "cell_type": "code",
   "execution_count": 26,
   "metadata": {
    "collapsed": false
   },
   "outputs": [
    {
     "data": {
      "text/plain": [
       "New            193\n",
       "Experienced    172\n",
       "Veteran        136\n",
       "NaN             88\n",
       "Established     62\n",
       "Name: service_cat, dtype: int64"
      ]
     },
     "execution_count": 26,
     "metadata": {},
     "output_type": "execute_result"
    }
   ],
   "source": [
    "# check the results in the series\n",
    "combined_updated['service_cat'].value_counts(dropna=False)"
   ]
  },
  {
   "cell_type": "markdown",
   "metadata": {},
   "source": [
    "As seen above, a new column in the data set has been created that defines which service category that a worker belongs to, based on their years of service."
   ]
  },
  {
   "cell_type": "code",
   "execution_count": 27,
   "metadata": {
    "collapsed": false
   },
   "outputs": [
    {
     "data": {
      "text/plain": [
       "False    403\n",
       "True     240\n",
       "NaN        8\n",
       "Name: dissatisfied, dtype: int64"
      ]
     },
     "execution_count": 27,
     "metadata": {},
     "output_type": "execute_result"
    }
   ],
   "source": [
    "# confirm number of satisfied or dissatisfied exits\n",
    "combined_updated['dissatisfied'].value_counts(dropna=False)"
   ]
  },
  {
   "cell_type": "code",
   "execution_count": 28,
   "metadata": {
    "collapsed": false
   },
   "outputs": [],
   "source": [
    "# populate null values in the 'dissatisfied' column with False, since it occurs most frequently\n",
    "combined_updated['dissatisfied'] = combined_updated['dissatisfied'].fillna(False)"
   ]
  },
  {
   "cell_type": "code",
   "execution_count": 29,
   "metadata": {
    "collapsed": false
   },
   "outputs": [],
   "source": [
    "# create a pivot table of the data\n",
    "table = combined_updated.pivot_table(index='service_cat', values='dissatisfied')"
   ]
  },
  {
   "cell_type": "code",
   "execution_count": 30,
   "metadata": {
    "collapsed": false
   },
   "outputs": [
    {
     "data": {
      "text/plain": [
       "<matplotlib.axes._subplots.AxesSubplot at 0x7efee24e3e48>"
      ]
     },
     "execution_count": 30,
     "metadata": {},
     "output_type": "execute_result"
    },
    {
     "data": {
      "image/png": "[encoded data removed]",
      "text/plain": [
       "<matplotlib.figure.Figure at 0x7efee9cbcf28>"
      ]
     },
     "metadata": {},
     "output_type": "display_data"
    }
   ],
   "source": [
    "%matplotlib inline\n",
    "table.plot(kind='bar')"
   ]
  },
  {
   "cell_type": "markdown",
   "metadata": {},
   "source": [
    "As you can see in the visualization above, generally, more experienced workers have a higher rate of any sort of dissatisfaction."
   ]
  }
 ],
 "metadata": {
  "kernelspec": {
   "display_name": "Python 3",
   "language": "python",
   "name": "python3"
  },
  "language_info": {
   "codemirror_mode": {
    "name": "ipython",
    "version": 3
   },
   "file_extension": ".py",
   "mimetype": "text/x-python",
   "name": "python",
   "nbconvert_exporter": "python",
   "pygments_lexer": "ipython3",
   "version": "3.4.3"
  }
 },
 "nbformat": 4,
 "nbformat_minor": 2
}
