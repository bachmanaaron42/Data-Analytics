{
 "cells": [
  {
   "cell_type": "markdown",
   "metadata": {
    "collapsed": true
   },
   "source": [
    "# Hacker Post Data Analysis\n",
    "\n",
    "This analysis will seek to understand whether Ask HN or Show HN posts recieve more comments. Additionally, we'll analyze the times when posts are submitted to understand if there are more comments for posts created at a certain time.\n",
    "\n",
    "The data set that we'll be working with contains the following columns:\n",
    "\n",
    "|Column          |Description                                    |\n",
    "|----------------|-----------------------------------------------|\n",
    "|id              |Unique ID for each post                        |\n",
    "|title           |Title of the post                              |\n",
    "|url             |URL the post links to                          |\n",
    "|num_points      |Number of upvotes minus number of downvotes    |\n",
    "|num_comments    |Number of comments                             |\n",
    "|author          |Author of the post                             |\n",
    "|created_at      |Date and time post was created                 |"
   ]
  },
  {
   "cell_type": "code",
   "execution_count": 3,
   "metadata": {
    "collapsed": false
   },
   "outputs": [],
   "source": [
    "# open the csv file and display the first few rows\n",
    "\n",
    "from csv import reader\n",
    "opened_file = open('hacker_news.csv')\n",
    "read_file = reader(opened_file)\n",
    "hacker_news = list(read_file)\n",
    "\n",
    "# print(hacker_news[:6])"
   ]
  },
  {
   "cell_type": "code",
   "execution_count": null,
   "metadata": {
    "collapsed": false
   },
   "outputs": [],
   "source": [
    "# remove the header row of the data set\n",
    "headers = hacker_news[0]\n",
    "hacker_news = hacker_news[1:]\n",
    "\n",
    "print(headers)\n",
    "print(hacker_news[:5])"
   ]
  },
  {
   "cell_type": "code",
   "execution_count": 5,
   "metadata": {
    "collapsed": true
   },
   "outputs": [],
   "source": [
    "# create two sub sets of data beginning with 'Show HN' and 'Ask HN'\n",
    "\n",
    "show_hn = []\n",
    "ask_hn = []\n",
    "other_posts = []\n",
    "\n",
    "for row in hacker_news:\n",
    "    title = row[1].lower()\n",
    "    if title.startswith('show hn'):\n",
    "        show_hn.append(row)\n",
    "    elif title.startswith('ask hn'):\n",
    "        ask_hn.append(row)\n",
    "    else:\n",
    "        other_posts.append(row)"
   ]
  },
  {
   "cell_type": "code",
   "execution_count": 6,
   "metadata": {
    "collapsed": false
   },
   "outputs": [
    {
     "name": "stdout",
     "output_type": "stream",
     "text": [
      "1162\n",
      "1744\n",
      "17194\n"
     ]
    }
   ],
   "source": [
    "# display the number of rows in each data set\n",
    "print(len(show_hn))\n",
    "print(len(ask_hn))\n",
    "print(len(other_posts))"
   ]
  },
  {
   "cell_type": "code",
   "execution_count": 7,
   "metadata": {
    "collapsed": false
   },
   "outputs": [
    {
     "name": "stdout",
     "output_type": "stream",
     "text": [
      "10.31669535283993\n",
      "14.038417431192661\n"
     ]
    }
   ],
   "source": [
    "# display the average number of comments for each data set\n",
    "total_comments_show_hn = 0\n",
    "total_comments_ask_hn = 0\n",
    "\n",
    "for post in show_hn:\n",
    "    num_comments = int(post[4])\n",
    "    total_comments_show_hn += num_comments\n",
    "    \n",
    "for record in ask_hn:\n",
    "    num_comms = int(record[4])\n",
    "    total_comments_ask_hn += num_comms\n",
    "    \n",
    "avg_num_comments_show_hn = total_comments_show_hn / len(show_hn)\n",
    "avg_num_comments_ask_hn = total_comments_ask_hn / len(ask_hn)\n",
    "\n",
    "print(avg_num_comments_show_hn)\n",
    "print(avg_num_comments_ask_hn)"
   ]
  },
  {
   "cell_type": "markdown",
   "metadata": {},
   "source": [
    "# Initial findings\n",
    "\n",
    "As you can see from the results above, 'Show HN' posts average 10.31 comments, whereas 'Ask HN' posts average 14.03 comments, meaning that Ask HN posts have a higher average number of comments for each post compared to Show HN posts."
   ]
  },
  {
   "cell_type": "code",
   "execution_count": 10,
   "metadata": {
    "collapsed": false
   },
   "outputs": [
    {
     "name": "stdout",
     "output_type": "stream",
     "text": [
      "['12210105', 'Ask HN: Looking for Employee #3 How do I do it?', '', '1', '3', 'sph130', '8/2/2016 14:20']\n"
     ]
    }
   ],
   "source": [
    "print(ask_hn[3])"
   ]
  },
  {
   "cell_type": "code",
   "execution_count": 16,
   "metadata": {
    "collapsed": false
   },
   "outputs": [],
   "source": [
    "# display the average number of comments per hour created for Ask HN posts\n",
    "# import datetime as dt\n",
    "\n",
    "result_list = []\n",
    "\n",
    "for each_row in ask_hn:\n",
    "    created_at = each_row[6]\n",
    "    num_com = int(each_row[4])\n",
    "    a_list = [created_at, num_com]\n",
    "    result_list.append(a_list)\n",
    "    \n",
    "counts_by_hour = {}\n",
    "comments_by_hour = {}\n",
    "\n",
    "for each_record in result_list:\n",
    "    dt_created = each_record[0]\n",
    "    n_com = each_record[1]\n",
    "    date_created_dt = dt.datetime.strptime(dt_created, '%m/%d/%Y %H:%M')\n",
    "    time = date_created_dt.time()\n",
    "    hour = time.hour\n",
    "    \n",
    "    if hour in counts_by_hour:\n",
    "        counts_by_hour[hour] += 1\n",
    "    else:\n",
    "        counts_by_hour[hour] = 1\n",
    "        \n",
    "    if hour in comments_by_hour:\n",
    "        comments_by_hour[hour] += n_com\n",
    "    else:\n",
    "        comments_by_hour[hour] = n_com\n",
    "        "
   ]
  },
  {
   "cell_type": "code",
   "execution_count": 17,
   "metadata": {
    "collapsed": false
   },
   "outputs": [
    {
     "name": "stdout",
     "output_type": "stream",
     "text": [
      "{0: 447, 1: 683, 2: 1381, 3: 421, 4: 337, 5: 464, 6: 397, 7: 267, 8: 492, 9: 251, 10: 793, 11: 641, 12: 687, 13: 1253, 14: 1416, 15: 4477, 16: 1814, 17: 1146, 18: 1439, 19: 1188, 20: 1722, 21: 1745, 22: 479, 23: 543}\n",
      "{0: 55, 1: 60, 2: 58, 3: 54, 4: 47, 5: 46, 6: 44, 7: 34, 8: 48, 9: 45, 10: 59, 11: 58, 12: 73, 13: 85, 14: 107, 15: 116, 16: 108, 17: 100, 18: 109, 19: 110, 20: 80, 21: 109, 22: 71, 23: 68}\n"
     ]
    }
   ],
   "source": [
    "# display dictionaries\n",
    "\n",
    "print(comments_by_hour)\n",
    "print(counts_by_hour)"
   ]
  },
  {
   "cell_type": "code",
   "execution_count": 18,
   "metadata": {
    "collapsed": false
   },
   "outputs": [
    {
     "name": "stdout",
     "output_type": "stream",
     "text": [
      "[[0, 8.127272727272727], [1, 11.383333333333333], [2, 23.810344827586206], [3, 7.796296296296297], [4, 7.170212765957447], [5, 10.08695652173913], [6, 9.022727272727273], [7, 7.852941176470588], [8, 10.25], [9, 5.5777777777777775], [10, 13.440677966101696], [11, 11.051724137931034], [12, 9.41095890410959], [13, 14.741176470588234], [14, 13.233644859813085], [15, 38.5948275862069], [16, 16.796296296296298], [17, 11.46], [18, 13.20183486238532], [19, 10.8], [20, 21.525], [21, 16.009174311926607], [22, 6.746478873239437], [23, 7.985294117647059]]\n"
     ]
    }
   ],
   "source": [
    "# calculate the average number of comments per post for each hour\n",
    "\n",
    "avg_comms = []\n",
    "\n",
    "for i in comments_by_hour:\n",
    "    avg_comts = comments_by_hour[i] / counts_by_hour[i]\n",
    "    avg_comms.append([i, avg_comts])\n",
    "    \n",
    "print(avg_comms)"
   ]
  },
  {
   "cell_type": "code",
   "execution_count": 21,
   "metadata": {
    "collapsed": false
   },
   "outputs": [
    {
     "name": "stdout",
     "output_type": "stream",
     "text": [
      "Top 5 Hours for Ask Posts Comments:\n",
      "15:00:00: 38.59 number of comments per post on average\n",
      "02:00:00: 23.81 number of comments per post on average\n",
      "20:00:00: 21.52 number of comments per post on average\n",
      "16:00:00: 16.80 number of comments per post on average\n",
      "21:00:00: 16.01 number of comments per post on average\n"
     ]
    }
   ],
   "source": [
    "# format the list\n",
    "\n",
    "list_reformatted = []\n",
    "\n",
    "for rec in avg_comms:\n",
    "    hour = rec[0]\n",
    "    avg = rec[1]\n",
    "    list_reformatted.append([avg, hour])\n",
    "    \n",
    "list_sorted = sorted(list_reformatted, reverse=True)\n",
    "\n",
    "print(\"Top 5 Hours for Ask Posts Comments:\")\n",
    "\n",
    "for line in list_sorted[:5]:\n",
    "    hr = dt.datetime.strptime(str(line[1]), '%H')\n",
    "    hr_time_obj = hr.time()\n",
    "    avrg = line[0]\n",
    "        \n",
    "    message = \"{hour}: {av:.2f} number of comments per post on average\".format(hour=hr_time_obj, av=avrg)\n",
    "    print(message)"
   ]
  },
  {
   "cell_type": "markdown",
   "metadata": {},
   "source": [
    "# Results\n",
    "\n",
    "As you can see from the output above, users will have the best chance of receiving maximum comments on their Ask Posts if they create the post at 3pm. The next best chance they will have is if they create the post at 2am."
   ]
  },
  {
   "cell_type": "code",
   "execution_count": null,
   "metadata": {
    "collapsed": true
   },
   "outputs": [],
   "source": []
  }
 ],
 "metadata": {
  "kernelspec": {
   "display_name": "Python 3",
   "language": "python",
   "name": "python3"
  },
  "language_info": {
   "codemirror_mode": {
    "name": "ipython",
    "version": 3
   },
   "file_extension": ".py",
   "mimetype": "text/x-python",
   "name": "python",
   "nbconvert_exporter": "python",
   "pygments_lexer": "ipython3",
   "version": "3.4.3"
  }
 },
 "nbformat": 4,
 "nbformat_minor": 2
}
